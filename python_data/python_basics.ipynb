{
 "cells": [
  {
   "cell_type": "markdown",
   "metadata": {},
   "source": [
    "# Python Basics: "
   ]
  },
  {
   "cell_type": "markdown",
   "metadata": {},
   "source": [
    "Retrieving The Length Of A List:"
   ]
  },
  {
   "cell_type": "code",
   "execution_count": 2,
   "metadata": {},
   "outputs": [
    {
     "data": {
      "text/plain": [
       "10"
      ]
     },
     "execution_count": 2,
     "metadata": {},
     "output_type": "execute_result"
    }
   ],
   "source": [
    "cities = [\"Albuquerque\", \"Anaheim\", \"Anchorage\", \"Arlington\", \"Atlanta\"]\n",
    "crime_rates = [749, 371, 828, 503, 1379]\n",
    "\n",
    "two_sum = len(cities) + len(crime_rates)\n",
    "two_sum"
   ]
  },
  {
   "cell_type": "markdown",
   "metadata": {},
   "source": [
    "Slicing Lists: "
   ]
  },
  {
   "cell_type": "code",
   "execution_count": 4,
   "metadata": {
    "scrolled": true
   },
   "outputs": [],
   "source": [
    "cities_slice = cities[1:len(cities) - 1]\n",
    "cr_slice = crime_rates[3:len(crime_rates)]"
   ]
  },
  {
   "cell_type": "code",
   "execution_count": 5,
   "metadata": {},
   "outputs": [
    {
     "data": {
      "text/plain": [
       "['Anaheim', 'Anchorage', 'Arlington']"
      ]
     },
     "execution_count": 5,
     "metadata": {},
     "output_type": "execute_result"
    }
   ],
   "source": [
    "cities_slice"
   ]
  },
  {
   "cell_type": "code",
   "execution_count": 6,
   "metadata": {},
   "outputs": [
    {
     "data": {
      "text/plain": [
       "[503, 1379]"
      ]
     },
     "execution_count": 6,
     "metadata": {},
     "output_type": "execute_result"
    }
   ],
   "source": [
    "cr_slice"
   ]
  },
  {
   "cell_type": "markdown",
   "metadata": {},
   "source": [
    "Files: "
   ]
  },
  {
   "cell_type": "markdown",
   "metadata": {},
   "source": [
    "Opening Files:"
   ]
  },
  {
   "cell_type": "code",
   "execution_count": 8,
   "metadata": {},
   "outputs": [],
   "source": [
    "f = open(\"crime_rates.csv\", \"r\")"
   ]
  },
  {
   "cell_type": "code",
   "execution_count": 10,
   "metadata": {},
   "outputs": [
    {
     "data": {
      "text/plain": [
       "'Albuquerque,749\\nAnaheim,371\\nAnchorage,828\\nArlington,503\\nAtlanta,1379\\nAurora,425\\nAustin,408\\nBakersfield,542\\nBaltimore,1405\\nBoston,835\\nBuffalo,1288\\nCharlotte-Mecklenburg,647\\nCincinnati,974\\nCleveland,1383\\nColorado Springs,455\\nCorpus Christi,658\\nDallas,675\\nDenver,615\\nDetroit,2122\\nEl Paso,423\\nFort Wayne,362\\nFort Worth,587\\nFresno,543\\nGreensboro,563\\nHenderson,168\\nHouston,992\\nIndianapolis,1185\\nJacksonville,617\\nJersey City,734\\nKansas City,1263\\nLas Vegas,784\\nLexington,352\\nLincoln,397\\nLong Beach,575\\nLos Angeles,481\\nLouisville Metro,598\\nMemphis,1750\\nMesa,399\\nMiami,1172\\nMilwaukee,1294\\nMinneapolis,992\\nMobile,522\\nNashville,1216\\nNew Orleans,815\\nNew York,639\\nNewark,1154\\nOakland,1993\\nOklahoma City,919\\nOmaha,594\\nPhiladelphia,1160\\nPhoenix,636\\nPittsburgh,752\\nPlano,130\\nPortland,517\\nRaleigh,423\\nRiverside,443\\nSacramento,738\\nSan Antonio,503\\nSan Diego,413\\nSan Francisco,704\\nSan Jose,363\\nSanta Ana,401\\nSeattle,597\\nSt. Louis,1776\\nSt. Paul,722\\nStockton,1548\\nTampa,616\\nToledo,1171\\nTucson,724\\nTulsa,990\\nVirginia Beach,169\\nWashington,1177\\nWichita,742'"
      ]
     },
     "execution_count": 10,
     "metadata": {},
     "output_type": "execute_result"
    }
   ],
   "source": [
    "#Reading In Files\n",
    "f = open(\"crime_rates.csv\", \"r\")\n",
    "data = f.read()\n",
    "data"
   ]
  },
  {
   "cell_type": "markdown",
   "metadata": {},
   "source": [
    "Splitting: "
   ]
  },
  {
   "cell_type": "code",
   "execution_count": 11,
   "metadata": {},
   "outputs": [
    {
     "data": {
      "text/plain": [
       "['john', 'plastic', 'joe']"
      ]
     },
     "execution_count": 11,
     "metadata": {},
     "output_type": "execute_result"
    }
   ],
   "source": [
    "# We can split a string into a list.\n",
    "sample = \"john,plastic,joe\"\n",
    "split_list = sample.split(\",\")\n",
    "split_list"
   ]
  },
  {
   "cell_type": "code",
   "execution_count": 12,
   "metadata": {},
   "outputs": [
    {
     "data": {
      "text/plain": [
       "['Albuquerque,749',\n",
       " 'Anaheim,371',\n",
       " 'Anchorage,828',\n",
       " 'Arlington,503',\n",
       " 'Atlanta,1379',\n",
       " 'Aurora,425',\n",
       " 'Austin,408',\n",
       " 'Bakersfield,542',\n",
       " 'Baltimore,1405',\n",
       " 'Boston,835',\n",
       " 'Buffalo,1288',\n",
       " 'Charlotte-Mecklenburg,647',\n",
       " 'Cincinnati,974',\n",
       " 'Cleveland,1383',\n",
       " 'Colorado Springs,455',\n",
       " 'Corpus Christi,658',\n",
       " 'Dallas,675',\n",
       " 'Denver,615',\n",
       " 'Detroit,2122',\n",
       " 'El Paso,423',\n",
       " 'Fort Wayne,362',\n",
       " 'Fort Worth,587',\n",
       " 'Fresno,543',\n",
       " 'Greensboro,563',\n",
       " 'Henderson,168',\n",
       " 'Houston,992',\n",
       " 'Indianapolis,1185',\n",
       " 'Jacksonville,617',\n",
       " 'Jersey City,734',\n",
       " 'Kansas City,1263',\n",
       " 'Las Vegas,784',\n",
       " 'Lexington,352',\n",
       " 'Lincoln,397',\n",
       " 'Long Beach,575',\n",
       " 'Los Angeles,481',\n",
       " 'Louisville Metro,598',\n",
       " 'Memphis,1750',\n",
       " 'Mesa,399',\n",
       " 'Miami,1172',\n",
       " 'Milwaukee,1294',\n",
       " 'Minneapolis,992',\n",
       " 'Mobile,522',\n",
       " 'Nashville,1216',\n",
       " 'New Orleans,815',\n",
       " 'New York,639',\n",
       " 'Newark,1154',\n",
       " 'Oakland,1993',\n",
       " 'Oklahoma City,919',\n",
       " 'Omaha,594',\n",
       " 'Philadelphia,1160',\n",
       " 'Phoenix,636',\n",
       " 'Pittsburgh,752',\n",
       " 'Plano,130',\n",
       " 'Portland,517',\n",
       " 'Raleigh,423',\n",
       " 'Riverside,443',\n",
       " 'Sacramento,738',\n",
       " 'San Antonio,503',\n",
       " 'San Diego,413',\n",
       " 'San Francisco,704',\n",
       " 'San Jose,363',\n",
       " 'Santa Ana,401',\n",
       " 'Seattle,597',\n",
       " 'St. Louis,1776',\n",
       " 'St. Paul,722',\n",
       " 'Stockton,1548',\n",
       " 'Tampa,616',\n",
       " 'Toledo,1171',\n",
       " 'Tucson,724',\n",
       " 'Tulsa,990',\n",
       " 'Virginia Beach,169',\n",
       " 'Washington,1177',\n",
       " 'Wichita,742']"
      ]
     },
     "execution_count": 12,
     "metadata": {},
     "output_type": "execute_result"
    }
   ],
   "source": [
    "rows = data.split('\\n')\n",
    "rows"
   ]
  },
  {
   "cell_type": "code",
   "execution_count": 13,
   "metadata": {},
   "outputs": [
    {
     "name": "stdout",
     "output_type": "stream",
     "text": [
      "Albuquerque,749\n",
      "Anaheim,371\n",
      "Anchorage,828\n",
      "Arlington,503\n",
      "Atlanta,1379\n",
      "Aurora,425\n",
      "Austin,408\n",
      "Bakersfield,542\n",
      "Baltimore,1405\n",
      "Boston,835\n"
     ]
    }
   ],
   "source": [
    "# Practice - Loops \n",
    "\n",
    "ten_rows = rows[0:10]\n",
    "for row in ten_rows: \n",
    "    print(row)"
   ]
  },
  {
   "cell_type": "markdown",
   "metadata": {},
   "source": [
    "List of Lists:"
   ]
  },
  {
   "cell_type": "code",
   "execution_count": 14,
   "metadata": {},
   "outputs": [
    {
     "data": {
      "text/plain": [
       "[['Albuquerque', '749'], ['Anaheim', '371'], ['Anchorage', '828']]"
      ]
     },
     "execution_count": 14,
     "metadata": {},
     "output_type": "execute_result"
    }
   ],
   "source": [
    "three_rows = [\"Albuquerque,749\", \"Anaheim,371\", \"Anchorage,828\"]\n",
    "final_list = []\n",
    "for row in three_rows:\n",
    "    split_list = row.split(',')\n",
    "    final_list.append(split_list)\n",
    "final_list"
   ]
  },
  {
   "cell_type": "code",
   "execution_count": 15,
   "metadata": {},
   "outputs": [
    {
     "data": {
      "text/plain": [
       "[['Albuquerque', '749'],\n",
       " ['Anaheim', '371'],\n",
       " ['Anchorage', '828'],\n",
       " ['Arlington', '503'],\n",
       " ['Atlanta', '1379']]"
      ]
     },
     "execution_count": 15,
     "metadata": {},
     "output_type": "execute_result"
    }
   ],
   "source": [
    "# Practice - Splitting Elements in a List\n",
    "\n",
    "final_data = []\n",
    "for row in rows: \n",
    "    row_list = row.split(',')\n",
    "    final_data.append(row_list)\n",
    "final_data[0:5]"
   ]
  },
  {
   "cell_type": "code",
   "execution_count": 16,
   "metadata": {},
   "outputs": [
    {
     "data": {
      "text/plain": [
       "[749,\n",
       " 371,\n",
       " 828,\n",
       " 503,\n",
       " 1379,\n",
       " 425,\n",
       " 408,\n",
       " 542,\n",
       " 1405,\n",
       " 835,\n",
       " 1288,\n",
       " 647,\n",
       " 974,\n",
       " 1383,\n",
       " 455,\n",
       " 658,\n",
       " 675,\n",
       " 615,\n",
       " 2122,\n",
       " 423,\n",
       " 362,\n",
       " 587,\n",
       " 543,\n",
       " 563,\n",
       " 168,\n",
       " 992,\n",
       " 1185,\n",
       " 617,\n",
       " 734,\n",
       " 1263,\n",
       " 784,\n",
       " 352,\n",
       " 397,\n",
       " 575,\n",
       " 481,\n",
       " 598,\n",
       " 1750,\n",
       " 399,\n",
       " 1172,\n",
       " 1294,\n",
       " 992,\n",
       " 522,\n",
       " 1216,\n",
       " 815,\n",
       " 639,\n",
       " 1154,\n",
       " 1993,\n",
       " 919,\n",
       " 594,\n",
       " 1160,\n",
       " 636,\n",
       " 752,\n",
       " 130,\n",
       " 517,\n",
       " 423,\n",
       " 443,\n",
       " 738,\n",
       " 503,\n",
       " 413,\n",
       " 704,\n",
       " 363,\n",
       " 401,\n",
       " 597,\n",
       " 1776,\n",
       " 722,\n",
       " 1548,\n",
       " 616,\n",
       " 1171,\n",
       " 724,\n",
       " 990,\n",
       " 169,\n",
       " 1177,\n",
       " 742]"
      ]
     },
     "execution_count": 16,
     "metadata": {},
     "output_type": "execute_result"
    }
   ],
   "source": [
    "int_crime_rates = []\n",
    "for list_item in rows: \n",
    "    rate_num = list_item.split(',')[1]\n",
    "    int_crime_rates.append(int(rate_num))\n",
    "    \n",
    "int_crime_rates"
   ]
  },
  {
   "cell_type": "code",
   "execution_count": null,
   "metadata": {},
   "outputs": [],
   "source": []
  }
 ],
 "metadata": {
  "kernelspec": {
   "display_name": "Python 3",
   "language": "python",
   "name": "python3"
  },
  "language_info": {
   "codemirror_mode": {
    "name": "ipython",
    "version": 3
   },
   "file_extension": ".py",
   "mimetype": "text/x-python",
   "name": "python",
   "nbconvert_exporter": "python",
   "pygments_lexer": "ipython3",
   "version": "3.6.4"
  }
 },
 "nbformat": 4,
 "nbformat_minor": 2
}
